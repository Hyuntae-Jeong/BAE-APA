{
  "nbformat": 4,
  "nbformat_minor": 0,
  "metadata": {
    "colab": {
      "provenance": [],
      "gpuType": "T4"
    },
    "kernelspec": {
      "name": "python3",
      "display_name": "Python 3"
    },
    "language_info": {
      "name": "python"
    },
    "accelerator": "GPU"
  },
  "cells": [
    {
      "cell_type": "code",
      "source": [
        "from google.colab import drive\n",
        "drive.mount('/content/drive')"
      ],
      "metadata": {
        "colab": {
          "base_uri": "https://localhost:8080/"
        },
        "id": "iKCmKHe4okKy",
        "outputId": "2147e7ea-479c-4f75-b090-404fc5695248"
      },
      "execution_count": null,
      "outputs": [
        {
          "output_type": "stream",
          "name": "stdout",
          "text": [
            "Mounted at /content/drive\n"
          ]
        }
      ]
    },
    {
      "cell_type": "code",
      "source": [
        "import torch\n",
        "import torch.nn as nn\n",
        "import torch.nn.functional as F\n",
        "import torchvision.models as models\n",
        "\n",
        "model = models.resnet50()\n",
        "num_features = model.fc.in_features\n",
        "\n",
        "# 새로운 linear layer로 대체\n",
        "model.fc = nn.Linear(num_features, 101)"
      ],
      "metadata": {
        "id": "g5VAP70A_l03"
      },
      "execution_count": null,
      "outputs": []
    },
    {
      "cell_type": "code",
      "source": [
        "state_path = '/content/drive/MyDrive/Colab Notebooks/BAE-APA/resnet50model.pth'\n",
        "# https://github.com/Herick-Asmani/Food-101-classification-using-ResNet-50의 food101 모델을 초기모델로 활용\n",
        "checkpoint_state = torch.load(state_path)\n",
        "model.load_state_dict(checkpoint_state['model_state'])"
      ],
      "metadata": {
        "id": "3GBSkyw1r568",
        "colab": {
          "base_uri": "https://localhost:8080/"
        },
        "outputId": "9f42b73e-7cdf-465c-845a-3acd9de90ffd"
      },
      "execution_count": null,
      "outputs": [
        {
          "output_type": "execute_result",
          "data": {
            "text/plain": [
              "<All keys matched successfully>"
            ]
          },
          "metadata": {},
          "execution_count": 19
        }
      ]
    },
    {
      "cell_type": "code",
      "source": [
        "imgfolderpath = '/content/drive/MyDrive/Colab Notebooks/BAE-APA/images/train/foods'"
      ],
      "metadata": {
        "id": "sAaXgdjEM0oP"
      },
      "execution_count": null,
      "outputs": []
    },
    {
      "cell_type": "code",
      "source": [
        "import os\n",
        "labels = []\n",
        "img_path_list = []\n",
        "for label in os.listdir(imgfolderpath):\n",
        "    labels.append(label)\n",
        "    label_path = os.path.join(imgfolderpath, label)\n",
        "    if os.path.isdir(label_path):\n",
        "        if os.path.isdir(label_path):\n",
        "            img_files = os.listdir(label_path)\n",
        "            img_paths = []\n",
        "            for img_file in img_files:\n",
        "                if img_file.endswith('.jpg'):\n",
        "                    img_paths.append(os.path.join(label_path, img_file))\n",
        "            img_path_list.extend(img_paths)\n",
        "\n",
        "print(len(img_path_list))"
      ],
      "metadata": {
        "colab": {
          "base_uri": "https://localhost:8080/"
        },
        "id": "ksr8XABZRTaw",
        "outputId": "e00d274d-081e-4e35-a602-270e03ff4b19"
      },
      "execution_count": null,
      "outputs": [
        {
          "output_type": "stream",
          "name": "stdout",
          "text": [
            "5297\n"
          ]
        }
      ]
    },
    {
      "cell_type": "code",
      "source": [
        "from PIL import UnidentifiedImageError\n",
        "\n",
        "for i, img_path in enumerate(img_path_list):\n",
        "    if i % 10 == 0:\n",
        "        print(f\"{i}/{len(img_path_list)}\")\n",
        "    try:\n",
        "        image = Image.open(img_path)\n",
        "        pass\n",
        "    except UnidentifiedImageError:\n",
        "        os.remove(img_path)\n",
        "        continue"
      ],
      "metadata": {
        "id": "sQ1tYR4spMoR"
      },
      "execution_count": null,
      "outputs": []
    },
    {
      "cell_type": "code",
      "source": [
        "labels"
      ],
      "metadata": {
        "colab": {
          "base_uri": "https://localhost:8080/"
        },
        "id": "s07sCB-YK1K7",
        "outputId": "7df99971-b6bc-4e1d-f464-6e40b5da1981"
      },
      "execution_count": null,
      "outputs": [
        {
          "output_type": "execute_result",
          "data": {
            "text/plain": [
              "['Orange Juice',\n",
              " 'Milk',\n",
              " 'Salad',\n",
              " 'Egg',\n",
              " 'Candied Sweet Potatoes',\n",
              " 'Kimchi',\n",
              " 'Rice',\n",
              " 'Bean Sprouts',\n",
              " 'Chicken',\n",
              " 'Bibimbap',\n",
              " 'Pork Cutlet']"
            ]
          },
          "metadata": {},
          "execution_count": 7
        }
      ]
    },
    {
      "cell_type": "code",
      "source": [
        "num_classes = len(labels)"
      ],
      "metadata": {
        "id": "4U-o0r3XAS1V"
      },
      "execution_count": null,
      "outputs": []
    },
    {
      "cell_type": "code",
      "source": [
        "# 기존 모델 파라미터 동결\n",
        "for param in model.parameters():\n",
        "    param.requies_grad = False\n",
        "\n",
        "# 모델 아랫단에 분류기 추가\n",
        "model = nn.Sequential(model,\n",
        "                      nn.Linear(model.fc.out_features, num_classes))"
      ],
      "metadata": {
        "id": "dx8BOW5HAcQq"
      },
      "execution_count": null,
      "outputs": []
    },
    {
      "cell_type": "code",
      "source": [
        "print(model)"
      ],
      "metadata": {
        "id": "wPvPapZqoupU"
      },
      "execution_count": null,
      "outputs": []
    },
    {
      "cell_type": "code",
      "source": [
        "labels.index('Bibimbap')"
      ],
      "metadata": {
        "colab": {
          "base_uri": "https://localhost:8080/"
        },
        "id": "-0kg-84aKpEe",
        "outputId": "9945bf66-8fa5-442d-ab16-9d1caeb15322"
      },
      "execution_count": null,
      "outputs": [
        {
          "output_type": "execute_result",
          "data": {
            "text/plain": [
              "9"
            ]
          },
          "metadata": {},
          "execution_count": 10
        }
      ]
    },
    {
      "cell_type": "code",
      "source": [
        "import torch\n",
        "from torch.utils.data import Dataset\n",
        "from PIL import Image\n",
        "\n",
        "class CustomDataset(Dataset):\n",
        "    def __init__(self, data_list, transform=None):\n",
        "        self.data_list = data_list\n",
        "        self.transform = transform\n",
        "\n",
        "    def __len__(self):\n",
        "        return len(self.data_list)\n",
        "\n",
        "    def __getitem__(self, index):\n",
        "        image_path = self.data_list[index]\n",
        "        folder_name = os.path.basename(os.path.dirname(image_path))\n",
        "        label = labels.index(folder_name)\n",
        "        image = Image.open(image_path).convert(\"RGB\")\n",
        "\n",
        "        if self.transform:\n",
        "            image = self.transform(image)\n",
        "\n",
        "        return image, label"
      ],
      "metadata": {
        "id": "IdjY782jLvl0"
      },
      "execution_count": null,
      "outputs": []
    },
    {
      "cell_type": "code",
      "source": [
        "from torchvision.transforms import transforms\n",
        "\n",
        "# https://github.com/Herick-Asmani/Food-101-classification-using-ResNet-50\n",
        "transform = transforms.Compose([transforms.RandomResizedCrop(224),\n",
        "                                       transforms.RandomHorizontalFlip(),\n",
        "                                       transforms.RandomVerticalFlip(),\n",
        "                                       transforms.RandomRotation(45),\n",
        "                                       transforms.RandomAffine(45),\n",
        "                                       transforms.ColorJitter(),\n",
        "                                       transforms.ToTensor(),\n",
        "                                       transforms.Normalize(mean=[0.485, 0.456, 0.406],\n",
        "                                                            std=[0.229, 0.224, 0.225])])"
      ],
      "metadata": {
        "id": "qbWQSFDYo2Yp"
      },
      "execution_count": null,
      "outputs": []
    },
    {
      "cell_type": "code",
      "source": [
        "import torch\n",
        "from torch.utils.data import DataLoader\n",
        "from sklearn.model_selection import train_test_split\n",
        "\n",
        "# 데이터셋 크기\n",
        "train_dataset = CustomDataset(img_path_list, transform)\n",
        "dataset_size = len(train_dataset)\n",
        "\n",
        "# 인덱스를 생성하여 train과 valid 데이터셋을 나눔\n",
        "indices = list(range(dataset_size))\n",
        "train_indices, valid_indices = train_test_split(indices, test_size=0.2)\n",
        "\n",
        "# 데이터셋과 인덱스를 사용하여 train_loader와 valid_loader를 생성\n",
        "train_sampler = torch.utils.data.sampler.SubsetRandomSampler(train_indices)\n",
        "valid_sampler = torch.utils.data.sampler.SubsetRandomSampler(valid_indices)\n",
        "\n",
        "batch_size = 64  # 배치 크기\n",
        "\n",
        "\n",
        "train_loader = DataLoader(train_dataset, batch_size=batch_size, sampler=train_sampler)\n",
        "valid_loader = DataLoader(train_dataset, batch_size=batch_size, sampler=valid_sampler)"
      ],
      "metadata": {
        "id": "8u7VIKn9Rhl2"
      },
      "execution_count": null,
      "outputs": []
    },
    {
      "cell_type": "code",
      "source": [
        "import torch.optim as optim"
      ],
      "metadata": {
        "id": "ogOH7UkVXYyU"
      },
      "execution_count": null,
      "outputs": []
    },
    {
      "cell_type": "code",
      "source": [
        "criterion = nn.CrossEntropyLoss()\n",
        "optimizer = optim.SGD(model.parameters(), lr=0.01, momentum=0.9)\n",
        "scheduler = torch.optim.lr_scheduler.ReduceLROnPlateau(optimizer, 'min', patience = 5)"
      ],
      "metadata": {
        "id": "6b2kUzrNDLoF"
      },
      "execution_count": null,
      "outputs": []
    },
    {
      "cell_type": "code",
      "source": [
        "def calc_accuracy(prediction, label):\n",
        "    predicted_classes = torch.argmax(prediction, dim=1)\n",
        "\n",
        "    # 정확한 예측 개수 계산\n",
        "    correct_predictions = (predicted_classes == label).sum().item()\n",
        "\n",
        "    # 전체 데이터 개수\n",
        "    total_samples = batch.size(0)\n",
        "\n",
        "    # 정확도 계산\n",
        "    accuracy = correct_predictions / total_samples\n",
        "\n",
        "    return accuracy\n"
      ],
      "metadata": {
        "id": "mkLETSm3Q8X7"
      },
      "execution_count": null,
      "outputs": []
    },
    {
      "cell_type": "code",
      "source": [
        "device = torch.device('cuda') if torch.cuda.is_available() else torch.device('cpu')\n",
        "device"
      ],
      "metadata": {
        "colab": {
          "base_uri": "https://localhost:8080/"
        },
        "id": "w5DxflbJX0Du",
        "outputId": "b830dfcf-4f7e-4416-e7f0-0dfe9a9171eb"
      },
      "execution_count": null,
      "outputs": [
        {
          "output_type": "execute_result",
          "data": {
            "text/plain": [
              "device(type='cuda')"
            ]
          },
          "metadata": {},
          "execution_count": 25
        }
      ]
    },
    {
      "cell_type": "code",
      "source": [
        "model.to(device)"
      ],
      "metadata": {
        "id": "b2btqc4-XxyU"
      },
      "execution_count": null,
      "outputs": []
    },
    {
      "cell_type": "code",
      "source": [
        "checkpoint_path = '/content/drive/MyDrive/Colab Notebooks/BAE-APA/model/checkpoint.pth'\n",
        "\n",
        "checkpoint = torch.load(checkpoint_path)\n",
        "model.load_state_dict(checkpoint['model_state_dict'])\n",
        "optimizer.load_state_dict(checkpoint['optimizer_state_dict'])\n",
        "optimizer.param_groups[0]['lr'] = checkpoint['learning_rate']"
      ],
      "metadata": {
        "id": "xZj0s4Rczwmm"
      },
      "execution_count": null,
      "outputs": []
    },
    {
      "cell_type": "code",
      "source": [
        "import time\n",
        "epochs = 100\n",
        "\n",
        "start = time.time()\n",
        "best_accuracy = 0.0\n",
        "for epoch in range(epochs):\n",
        "\n",
        "    train_accuracy_list, valid_accuracy_list = [], []\n",
        "    train_loss, valid_loss = 0.0, 0.0\n",
        "\n",
        "    model.train()\n",
        "    print('Train Start')\n",
        "    for _iter, (batch, label) in enumerate(train_loader):\n",
        "        print(f'Iter : ({_iter}/{len(train_loader)})')\n",
        "        batch = batch.cuda()\n",
        "        label = label.cuda()\n",
        "\n",
        "        prediction = model(batch)\n",
        "        loss = criterion(prediction, label)\n",
        "\n",
        "        optimizer.zero_grad()\n",
        "        loss.backward()\n",
        "        optimizer.step()\n",
        "\n",
        "        train_accuracy_list.append(calc_accuracy(prediction, label))\n",
        "        train_loss += loss.item()\n",
        "\n",
        "    train_total_accuracy = sum(train_accuracy_list) / len(train_accuracy_list)\n",
        "\n",
        "    with torch.no_grad():\n",
        "        model.eval()\n",
        "\n",
        "        for batch, label in valid_loader:\n",
        "            batch = batch.cuda()\n",
        "            label = label.cuda()\n",
        "\n",
        "            prediction = model(batch)\n",
        "            loss = criterion(prediction, label)\n",
        "\n",
        "            valid_accuracy_list.append(calc_accuracy(prediction, label))\n",
        "            valid_loss += loss.item()\n",
        "\n",
        "        valid_accuracy = sum(valid_accuracy_list) / len(valid_accuracy_list)\n",
        "\n",
        "        if valid_accuracy > best_accuracy:\n",
        "            best_accuracy = valid_accuracy\n",
        "            best_model_state = model.state_dict()\n",
        "            best_optim_state = optimizer.state_dict()\n",
        "            torch.save({\n",
        "                'model_state_dict': model.state_dict(),\n",
        "                'optimizer_state_dict': optimizer.state_dict(),\n",
        "                'learning_rate': optimizer.param_groups[0]['lr']\n",
        "            }, 'checkpoint.pth')\n",
        "    print(f\"\"\"{time.strftime(\"%Y-%m-%d %H:%M:%S\", time.localtime())} || [{epoch}/{epochs}], train_loss = {train_total_loss:.4f}, train_accuracy = {train_total_accuracy:.2f}, valid_loss = {valid_total_loss:.4f}, valid_accuracy = {valid_total_accuracy:.2f}\"\"\")\n",
        "    print(\"learning rate \" + str(optimizer.param_groups[0]['lr']))\n",
        "elapsed = time.time() - start\n",
        "print(f\"Elapsed time : {elapsed} sec\")"
      ],
      "metadata": {
        "id": "yv73rnqxMXQS",
        "colab": {
          "base_uri": "https://localhost:8080/"
        },
        "outputId": "ef011b73-6800-48e1-bd02-815f77f39efb"
      },
      "execution_count": null,
      "outputs": [
        {
          "output_type": "stream",
          "name": "stdout",
          "text": [
            "2023-06-29 12:08:48 || [0/100], train_loss = 3.3137, train_accuracy = 0.99, valid_loss = 1.7403, valid_accuracy = 0.97\n",
            "learning rate 0.01\n",
            "2023-06-29 12:11:54 || [1/100], train_loss = 3.8051, train_accuracy = 0.98, valid_loss = 1.8362, valid_accuracy = 0.97\n",
            "learning rate 0.01\n",
            "2023-06-29 12:15:05 || [2/100], train_loss = 3.7892, train_accuracy = 0.98, valid_loss = 2.1166, valid_accuracy = 0.96\n",
            "learning rate 0.01\n",
            "2023-06-29 12:18:13 || [3/100], train_loss = 4.2227, train_accuracy = 0.98, valid_loss = 1.7652, valid_accuracy = 0.97\n",
            "learning rate 0.01\n",
            "2023-06-29 12:21:21 || [4/100], train_loss = 6.1505, train_accuracy = 0.97, valid_loss = 1.4962, valid_accuracy = 0.97\n",
            "learning rate 0.01\n",
            "2023-06-29 12:24:32 || [5/100], train_loss = 5.2525, train_accuracy = 0.97, valid_loss = 2.6377, valid_accuracy = 0.95\n",
            "learning rate 0.01\n",
            "2023-06-29 12:27:40 || [6/100], train_loss = 5.6814, train_accuracy = 0.98, valid_loss = 2.0749, valid_accuracy = 0.96\n",
            "learning rate 0.01\n",
            "2023-06-29 12:30:46 || [7/100], train_loss = 5.2534, train_accuracy = 0.98, valid_loss = 1.7606, valid_accuracy = 0.97\n",
            "learning rate 0.01\n",
            "2023-06-29 12:33:54 || [8/100], train_loss = 3.8381, train_accuracy = 0.98, valid_loss = 1.4433, valid_accuracy = 0.97\n",
            "learning rate 0.01\n",
            "2023-06-29 12:37:01 || [9/100], train_loss = 3.2242, train_accuracy = 0.98, valid_loss = 1.4181, valid_accuracy = 0.98\n",
            "learning rate 0.01\n",
            "2023-06-29 12:40:08 || [10/100], train_loss = 3.7554, train_accuracy = 0.98, valid_loss = 1.3697, valid_accuracy = 0.97\n",
            "learning rate 0.01\n",
            "2023-06-29 12:43:18 || [11/100], train_loss = 3.0247, train_accuracy = 0.99, valid_loss = 1.6039, valid_accuracy = 0.97\n",
            "learning rate 0.01\n",
            "2023-06-29 12:46:27 || [12/100], train_loss = 3.1985, train_accuracy = 0.98, valid_loss = 1.5465, valid_accuracy = 0.98\n",
            "learning rate 0.01\n"
          ]
        }
      ]
    },
    {
      "cell_type": "code",
      "source": [
        "torch.save({\n",
        "    'model_state_dict': best_model_state,\n",
        "    'optimizer_state_dict': best_optim_state,\n",
        "    'learning_rate': 0.01\n",
        "}, checkpoint_path)"
      ],
      "metadata": {
        "id": "QJdl7uoJXvXo"
      },
      "execution_count": null,
      "outputs": []
    },
    {
      "cell_type": "code",
      "source": [],
      "metadata": {
        "id": "QxNUWuyS4Cfs"
      },
      "execution_count": null,
      "outputs": []
    }
  ]
}