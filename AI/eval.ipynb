{
  "cells": [
    {
      "cell_type": "code",
      "execution_count": 3,
      "metadata": {
        "colab": {
          "base_uri": "https://localhost:8080/"
        },
        "id": "o4yiR9T7cWrm",
        "outputId": "7a94d643-8a05-4865-cedc-9b93b9bb1b4c"
      },
      "outputs": [
        {
          "output_type": "stream",
          "name": "stdout",
          "text": [
            "Mounted at /content/drive\n"
          ]
        }
      ],
      "source": [
        "from google.colab import drive\n",
        "drive.mount('/content/drive')"
      ]
    },
    {
      "cell_type": "code",
      "source": [],
      "metadata": {
        "id": "ogVt93ddEVkJ"
      },
      "execution_count": null,
      "outputs": []
    },
    {
      "cell_type": "code",
      "source": [
        "import torchvision.models as models\n",
        "import torch.nn as nn\n",
        "import torch\n",
        "from torch import optim\n",
        "import os\n",
        "from torchvision.transforms import transforms\n",
        "from PIL import Image\n",
        "import cv2\n",
        "\n",
        "checkpoint_path = '/content/drive/MyDrive/Colab Notebooks/BAE-APA/model/checkpoint.pth'\n",
        "image_path = '/content/drive/MyDrive/Colab Notebooks/BAE-APA/test/김치1.jpg'\n",
        "image = cv2.imread(image_path)\n",
        "\n",
        "labels = ['오렌지 주스',\n",
        "              '우유',\n",
        "              '샐러드',\n",
        "              '계란',\n",
        "              '고구마맛탕',\n",
        "              '김치',\n",
        "              '쌀밥',\n",
        "              '콩나물',\n",
        "              '치킨',\n",
        "              '비빔밥',\n",
        "              '돈가스']\n",
        "\n",
        "def load_model(checkpoint_path, labels):\n",
        "    num_classes = len(labels)\n",
        "    model = models.resnet50()\n",
        "    num_features = model.fc.in_features\n",
        "    model.fc = nn.Linear(num_features, 101)\n",
        "    classifier = nn.Linear(model.fc.out_features, num_classes)\n",
        "    model = nn.Sequential(model,\n",
        "                          classifier)\n",
        "    checkpoint = torch.load(checkpoint_path, map_location='cpu')\n",
        "    model.load_state_dict(checkpoint['model_state_dict'])\n",
        "    model.eval()\n",
        "\n",
        "    return model\n",
        "\n",
        "def predict_food(model, image, labels):\n",
        "    image = Image.fromarray(cv2.cvtColor(image, cv2.COLOR_BGR2RGB))\n",
        "    num_classes = len(labels)\n",
        "    transform = transforms.Compose([transforms.Resize(224),\n",
        "                                    transforms.ToTensor(),\n",
        "                                    transforms.Normalize(mean=[0.485, 0.456, 0.406],\n",
        "                                                        std=[0.229, 0.224, 0.225])])\n",
        "    image = transform(image)\n",
        "\n",
        "    # Make a prediction with the model\n",
        "    with torch.no_grad():\n",
        "        output = model(image.unsqueeze(0))\n",
        "\n",
        "    # Extract the predicted label\n",
        "    _, predicted_idx = torch.max(output, 1)\n",
        "    predicted_label = predicted_idx.item()\n",
        "    predicted = labels[predicted_label]\n",
        "\n",
        "    return predicted"
      ],
      "metadata": {
        "id": "i9jh4YmHEVXY"
      },
      "execution_count": 27,
      "outputs": []
    },
    {
      "cell_type": "code",
      "source": [
        "model = load_model(checkpoint_path, labels)\n",
        "predicted = predict_food(model, image, labels)\n",
        "predicted"
      ],
      "metadata": {
        "id": "gB0rF9r-mlFE",
        "colab": {
          "base_uri": "https://localhost:8080/",
          "height": 35
        },
        "outputId": "c5a83414-26da-4605-bd41-7e70886a9fc4"
      },
      "execution_count": 28,
      "outputs": [
        {
          "output_type": "execute_result",
          "data": {
            "text/plain": [
              "'김치'"
            ],
            "application/vnd.google.colaboratory.intrinsic+json": {
              "type": "string"
            }
          },
          "metadata": {},
          "execution_count": 28
        }
      ]
    },
    {
      "cell_type": "code",
      "source": [
        "import torchvision.models as models\n",
        "import torch.nn as nn\n",
        "\n",
        "model = models.resnet50()\n",
        "num_features = model.fc.in_features\n",
        "num_classes = 11\n",
        "\n",
        "# 새로운 linear layer로 대체\n",
        "model.fc = nn.Linear(num_features, 101)\n",
        "model = nn.Sequential(model,\n",
        "                      nn.Linear(model.fc.out_features, num_classes))"
      ],
      "metadata": {
        "id": "kqdB7d8Pi48i"
      },
      "execution_count": 5,
      "outputs": []
    },
    {
      "cell_type": "code",
      "source": [
        "from torch import optim\n",
        "\n",
        "optimizer = optim.SGD(model.parameters(), lr=0.01, momentum=0.9)\n",
        "scheduler = torch.optim.lr_scheduler.ReduceLROnPlateau(optimizer, 'min', patience = 5)"
      ],
      "metadata": {
        "id": "r5and4S86mSY"
      },
      "execution_count": 6,
      "outputs": []
    },
    {
      "cell_type": "code",
      "execution_count": 8,
      "metadata": {
        "id": "MFTZxLeeYT9i"
      },
      "outputs": [],
      "source": [
        "checkpoint_path = '/content/drive/MyDrive/Colab Notebooks/BAE-APA/model/checkpoint.pth'\n",
        "\n",
        "checkpoint = torch.load(checkpoint_path, map_location='cpu')\n",
        "model.load_state_dict(checkpoint['model_state_dict'])\n",
        "optimizer.load_state_dict(checkpoint['optimizer_state_dict'])\n",
        "optimizer.param_groups[0]['lr'] = checkpoint['learning_rate']"
      ]
    },
    {
      "cell_type": "code",
      "source": [
        "model.eval()"
      ],
      "metadata": {
        "id": "YfV9mdh_m7Xd"
      },
      "execution_count": null,
      "outputs": []
    },
    {
      "cell_type": "code",
      "source": [
        "import os\n",
        "\n",
        "# Set the path to the directory containing the files\n",
        "directory = '/content/drive/MyDrive/Colab Notebooks/BAE-APA/test/'\n",
        "\n",
        "# Iterate over the files in the directory\n",
        "for filename in os.listdir(directory):\n",
        "    if filename.endswith('.jfif'):\n",
        "        # Create the new filename by replacing the extension with '.jpg'\n",
        "        new_filename = os.path.join(directory, filename.replace('.jfif', '.jpg'))\n",
        "\n",
        "        # Rename the file\n",
        "        os.rename(os.path.join(directory, filename), new_filename)"
      ],
      "metadata": {
        "id": "9pv1zz1o7_5y"
      },
      "execution_count": 10,
      "outputs": []
    },
    {
      "cell_type": "code",
      "source": [
        "from torchvision.transforms import transforms\n",
        "\n",
        "transform = transforms.Compose([transforms.Resize(224),\n",
        "                                      transforms.ToTensor(),\n",
        "                                      transforms.Normalize(mean=[0.485, 0.456, 0.406],\n",
        "                                                            std=[0.229, 0.224, 0.225])])\n"
      ],
      "metadata": {
        "id": "XmX6ZgSmmTKz"
      },
      "execution_count": 19,
      "outputs": []
    },
    {
      "cell_type": "code",
      "source": [
        "labels = ['오렌지 주스',\n",
        " '우유',\n",
        " '샐러드',\n",
        " '계란',\n",
        " '고구마맛탕',\n",
        " '김치',\n",
        " '쌀밥',\n",
        " '콩나물',\n",
        " '치킨',\n",
        " '비빔밥',\n",
        " '돈가스']"
      ],
      "metadata": {
        "id": "eOHsfOLd-jYj"
      },
      "execution_count": 21,
      "outputs": []
    },
    {
      "cell_type": "code",
      "source": [
        "from PIL import Image\n",
        "\n",
        "for filename in os.listdir(directory):\n",
        "    if filename.endswith('.jpg'):\n",
        "        # Open the image file\n",
        "        image_path = os.path.join(directory, filename)\n",
        "        image = Image.open(image_path).convert(\"RGB\")\n",
        "\n",
        "        # Apply transformations to the image\n",
        "        image = transform(image)\n",
        "\n",
        "        # Make a prediction with the model\n",
        "        with torch.no_grad():\n",
        "            output = model(image.unsqueeze(0))\n",
        "\n",
        "        # Extract the predicted label\n",
        "        _, predicted_idx = torch.max(output, 1)\n",
        "        predicted_label = predicted_idx.item()\n",
        "\n",
        "        print(f\"File: {filename}, Predicted Label: {labels[predicted_label]}\")"
      ],
      "metadata": {
        "id": "balnI-yQmUUw",
        "colab": {
          "base_uri": "https://localhost:8080/"
        },
        "outputId": "d23f99c4-0a0f-494d-e89c-1cadf8221df5"
      },
      "execution_count": 22,
      "outputs": [
        {
          "output_type": "stream",
          "name": "stdout",
          "text": [
            "File: 치킨1.jpg, Predicted Label: 치킨\n",
            "File: 치킨2.jpg, Predicted Label: 치킨\n",
            "File: 샐러드.jpg, Predicted Label: 샐러드\n",
            "File: 샐러드2.jpg, Predicted Label: 샐러드\n",
            "File: 김치1.jpg, Predicted Label: 김치\n",
            "File: 콩나물.jpg, Predicted Label: 콩나물\n",
            "File: 오렌지주스.jpg, Predicted Label: 오렌지 주스\n"
          ]
        }
      ]
    },
    {
      "cell_type": "code",
      "source": [],
      "metadata": {
        "id": "p9Jim6SU1EqC"
      },
      "execution_count": null,
      "outputs": []
    }
  ],
  "metadata": {
    "colab": {
      "provenance": []
    },
    "kernelspec": {
      "display_name": "Python 3",
      "name": "python3"
    },
    "language_info": {
      "name": "python"
    }
  },
  "nbformat": 4,
  "nbformat_minor": 0
}